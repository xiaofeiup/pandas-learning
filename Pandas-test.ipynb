{
 "cells": [
  {
   "cell_type": "code",
   "execution_count": 56,
   "outputs": [],
   "source": [
    "import pandas as pd"
   ],
   "metadata": {
    "collapsed": false,
    "pycharm": {
     "name": "#%%\n"
    }
   }
  },
  {
   "cell_type": "code",
   "execution_count": 57,
   "outputs": [
    {
     "data": {
      "text/plain": "          ymd bWendu yWendu tianqi fengxiang fengli  aqi aqiInfo  aqiLevel\n0  2018-01-01     3℃    -6℃   晴~多云       东北风   1-2级   59       良         2\n1  2018-01-02     2℃    -5℃   阴~多云       东北风   1-2级   49       优         1\n2  2018-01-03     2℃    -5℃     多云        北风   1-2级   28       优         1\n3  2018-01-04     0℃    -8℃      阴       东北风   1-2级   28       优         1\n4  2018-01-05     3℃    -6℃   多云~晴       西北风   1-2级   50       优         1",
      "text/html": "<div>\n<style scoped>\n    .dataframe tbody tr th:only-of-type {\n        vertical-align: middle;\n    }\n\n    .dataframe tbody tr th {\n        vertical-align: top;\n    }\n\n    .dataframe thead th {\n        text-align: right;\n    }\n</style>\n<table border=\"1\" class=\"dataframe\">\n  <thead>\n    <tr style=\"text-align: right;\">\n      <th></th>\n      <th>ymd</th>\n      <th>bWendu</th>\n      <th>yWendu</th>\n      <th>tianqi</th>\n      <th>fengxiang</th>\n      <th>fengli</th>\n      <th>aqi</th>\n      <th>aqiInfo</th>\n      <th>aqiLevel</th>\n    </tr>\n  </thead>\n  <tbody>\n    <tr>\n      <th>0</th>\n      <td>2018-01-01</td>\n      <td>3℃</td>\n      <td>-6℃</td>\n      <td>晴~多云</td>\n      <td>东北风</td>\n      <td>1-2级</td>\n      <td>59</td>\n      <td>良</td>\n      <td>2</td>\n    </tr>\n    <tr>\n      <th>1</th>\n      <td>2018-01-02</td>\n      <td>2℃</td>\n      <td>-5℃</td>\n      <td>阴~多云</td>\n      <td>东北风</td>\n      <td>1-2级</td>\n      <td>49</td>\n      <td>优</td>\n      <td>1</td>\n    </tr>\n    <tr>\n      <th>2</th>\n      <td>2018-01-03</td>\n      <td>2℃</td>\n      <td>-5℃</td>\n      <td>多云</td>\n      <td>北风</td>\n      <td>1-2级</td>\n      <td>28</td>\n      <td>优</td>\n      <td>1</td>\n    </tr>\n    <tr>\n      <th>3</th>\n      <td>2018-01-04</td>\n      <td>0℃</td>\n      <td>-8℃</td>\n      <td>阴</td>\n      <td>东北风</td>\n      <td>1-2级</td>\n      <td>28</td>\n      <td>优</td>\n      <td>1</td>\n    </tr>\n    <tr>\n      <th>4</th>\n      <td>2018-01-05</td>\n      <td>3℃</td>\n      <td>-6℃</td>\n      <td>多云~晴</td>\n      <td>西北风</td>\n      <td>1-2级</td>\n      <td>50</td>\n      <td>优</td>\n      <td>1</td>\n    </tr>\n  </tbody>\n</table>\n</div>"
     },
     "execution_count": 57,
     "metadata": {},
     "output_type": "execute_result"
    }
   ],
   "source": [
    "df = pd.read_csv(\"./csv/beijing_tianqi_2018.csv\")\n",
    "df.head()"
   ],
   "metadata": {
    "collapsed": false,
    "pycharm": {
     "name": "#%%\n"
    }
   }
  },
  {
   "cell_type": "markdown",
   "source": [
    "### 2.设置索引为日期"
   ],
   "metadata": {
    "collapsed": false,
    "pycharm": {
     "name": "#%% md\n"
    }
   }
  },
  {
   "cell_type": "code",
   "execution_count": 58,
   "outputs": [
    {
     "data": {
      "text/plain": "Index(['2018-01-01', '2018-01-02', '2018-01-03', '2018-01-04', '2018-01-05',\n       '2018-01-06', '2018-01-07', '2018-01-08', '2018-01-09', '2018-01-10',\n       ...\n       '2018-12-22', '2018-12-23', '2018-12-24', '2018-12-25', '2018-12-26',\n       '2018-12-27', '2018-12-28', '2018-12-29', '2018-12-30', '2018-12-31'],\n      dtype='object', name='ymd', length=365)"
     },
     "execution_count": 58,
     "metadata": {},
     "output_type": "execute_result"
    }
   ],
   "source": [
    "df.set_index(\"ymd\",inplace=True)\n",
    "df.index"
   ],
   "metadata": {
    "collapsed": false,
    "pycharm": {
     "name": "#%%\n"
    }
   }
  },
  {
   "cell_type": "code",
   "execution_count": 59,
   "outputs": [
    {
     "data": {
      "text/plain": "           bWendu yWendu tianqi fengxiang fengli  aqi aqiInfo  aqiLevel\nymd                                                                    \n2018-01-01     3℃    -6℃   晴~多云       东北风   1-2级   59       良         2\n2018-01-02     2℃    -5℃   阴~多云       东北风   1-2级   49       优         1\n2018-01-03     2℃    -5℃     多云        北风   1-2级   28       优         1\n2018-01-04     0℃    -8℃      阴       东北风   1-2级   28       优         1\n2018-01-05     3℃    -6℃   多云~晴       西北风   1-2级   50       优         1",
      "text/html": "<div>\n<style scoped>\n    .dataframe tbody tr th:only-of-type {\n        vertical-align: middle;\n    }\n\n    .dataframe tbody tr th {\n        vertical-align: top;\n    }\n\n    .dataframe thead th {\n        text-align: right;\n    }\n</style>\n<table border=\"1\" class=\"dataframe\">\n  <thead>\n    <tr style=\"text-align: right;\">\n      <th></th>\n      <th>bWendu</th>\n      <th>yWendu</th>\n      <th>tianqi</th>\n      <th>fengxiang</th>\n      <th>fengli</th>\n      <th>aqi</th>\n      <th>aqiInfo</th>\n      <th>aqiLevel</th>\n    </tr>\n    <tr>\n      <th>ymd</th>\n      <th></th>\n      <th></th>\n      <th></th>\n      <th></th>\n      <th></th>\n      <th></th>\n      <th></th>\n      <th></th>\n    </tr>\n  </thead>\n  <tbody>\n    <tr>\n      <th>2018-01-01</th>\n      <td>3℃</td>\n      <td>-6℃</td>\n      <td>晴~多云</td>\n      <td>东北风</td>\n      <td>1-2级</td>\n      <td>59</td>\n      <td>良</td>\n      <td>2</td>\n    </tr>\n    <tr>\n      <th>2018-01-02</th>\n      <td>2℃</td>\n      <td>-5℃</td>\n      <td>阴~多云</td>\n      <td>东北风</td>\n      <td>1-2级</td>\n      <td>49</td>\n      <td>优</td>\n      <td>1</td>\n    </tr>\n    <tr>\n      <th>2018-01-03</th>\n      <td>2℃</td>\n      <td>-5℃</td>\n      <td>多云</td>\n      <td>北风</td>\n      <td>1-2级</td>\n      <td>28</td>\n      <td>优</td>\n      <td>1</td>\n    </tr>\n    <tr>\n      <th>2018-01-04</th>\n      <td>0℃</td>\n      <td>-8℃</td>\n      <td>阴</td>\n      <td>东北风</td>\n      <td>1-2级</td>\n      <td>28</td>\n      <td>优</td>\n      <td>1</td>\n    </tr>\n    <tr>\n      <th>2018-01-05</th>\n      <td>3℃</td>\n      <td>-6℃</td>\n      <td>多云~晴</td>\n      <td>西北风</td>\n      <td>1-2级</td>\n      <td>50</td>\n      <td>优</td>\n      <td>1</td>\n    </tr>\n  </tbody>\n</table>\n</div>"
     },
     "execution_count": 59,
     "metadata": {},
     "output_type": "execute_result"
    }
   ],
   "source": [
    "df.head()"
   ],
   "metadata": {
    "collapsed": false,
    "pycharm": {
     "name": "#%%\n"
    }
   }
  },
  {
   "cell_type": "markdown",
   "source": [
    "### 3.替换掉温度后缀"
   ],
   "metadata": {
    "collapsed": false,
    "pycharm": {
     "name": "#%% md\n"
    }
   }
  },
  {
   "cell_type": "code",
   "execution_count": 60,
   "outputs": [
    {
     "name": "stderr",
     "output_type": "stream",
     "text": [
      "C:\\Users\\asus\\AppData\\Local\\Temp\\ipykernel_34400\\3420529147.py:1: FutureWarning: In a future version, `df.iloc[:, i] = newvals` will attempt to set the values inplace instead of always setting a new array. To retain the old behavior, use either `df[df.columns[i]] = newvals` or, if columns are non-unique, `df.isetitem(i, newvals)`\n",
      "  df.loc[:,'bWendu'] = df['bWendu'].str.replace(\"℃\",\"\").astype('int32')\n",
      "C:\\Users\\asus\\AppData\\Local\\Temp\\ipykernel_34400\\3420529147.py:2: FutureWarning: In a future version, `df.iloc[:, i] = newvals` will attempt to set the values inplace instead of always setting a new array. To retain the old behavior, use either `df[df.columns[i]] = newvals` or, if columns are non-unique, `df.isetitem(i, newvals)`\n",
      "  df.loc[:,'yWendu'] = df['yWendu'].str.replace(\"℃\",\"\").astype('int32')\n"
     ]
    },
    {
     "data": {
      "text/plain": "            bWendu  yWendu tianqi fengxiang fengli  aqi aqiInfo  aqiLevel\nymd                                                                      \n2018-01-01       3      -6   晴~多云       东北风   1-2级   59       良         2\n2018-01-02       2      -5   阴~多云       东北风   1-2级   49       优         1\n2018-01-03       2      -5     多云        北风   1-2级   28       优         1\n2018-01-04       0      -8      阴       东北风   1-2级   28       优         1\n2018-01-05       3      -6   多云~晴       西北风   1-2级   50       优         1",
      "text/html": "<div>\n<style scoped>\n    .dataframe tbody tr th:only-of-type {\n        vertical-align: middle;\n    }\n\n    .dataframe tbody tr th {\n        vertical-align: top;\n    }\n\n    .dataframe thead th {\n        text-align: right;\n    }\n</style>\n<table border=\"1\" class=\"dataframe\">\n  <thead>\n    <tr style=\"text-align: right;\">\n      <th></th>\n      <th>bWendu</th>\n      <th>yWendu</th>\n      <th>tianqi</th>\n      <th>fengxiang</th>\n      <th>fengli</th>\n      <th>aqi</th>\n      <th>aqiInfo</th>\n      <th>aqiLevel</th>\n    </tr>\n    <tr>\n      <th>ymd</th>\n      <th></th>\n      <th></th>\n      <th></th>\n      <th></th>\n      <th></th>\n      <th></th>\n      <th></th>\n      <th></th>\n    </tr>\n  </thead>\n  <tbody>\n    <tr>\n      <th>2018-01-01</th>\n      <td>3</td>\n      <td>-6</td>\n      <td>晴~多云</td>\n      <td>东北风</td>\n      <td>1-2级</td>\n      <td>59</td>\n      <td>良</td>\n      <td>2</td>\n    </tr>\n    <tr>\n      <th>2018-01-02</th>\n      <td>2</td>\n      <td>-5</td>\n      <td>阴~多云</td>\n      <td>东北风</td>\n      <td>1-2级</td>\n      <td>49</td>\n      <td>优</td>\n      <td>1</td>\n    </tr>\n    <tr>\n      <th>2018-01-03</th>\n      <td>2</td>\n      <td>-5</td>\n      <td>多云</td>\n      <td>北风</td>\n      <td>1-2级</td>\n      <td>28</td>\n      <td>优</td>\n      <td>1</td>\n    </tr>\n    <tr>\n      <th>2018-01-04</th>\n      <td>0</td>\n      <td>-8</td>\n      <td>阴</td>\n      <td>东北风</td>\n      <td>1-2级</td>\n      <td>28</td>\n      <td>优</td>\n      <td>1</td>\n    </tr>\n    <tr>\n      <th>2018-01-05</th>\n      <td>3</td>\n      <td>-6</td>\n      <td>多云~晴</td>\n      <td>西北风</td>\n      <td>1-2级</td>\n      <td>50</td>\n      <td>优</td>\n      <td>1</td>\n    </tr>\n  </tbody>\n</table>\n</div>"
     },
     "execution_count": 60,
     "metadata": {},
     "output_type": "execute_result"
    }
   ],
   "source": [
    "df.loc[:,'bWendu'] = df['bWendu'].str.replace(\"℃\",\"\").astype('int32')\n",
    "df.loc[:,'yWendu'] = df['yWendu'].str.replace(\"℃\",\"\").astype('int32')\n",
    "# df.loc[ , ]= , 不能直接是 df =\n",
    "df.head()"
   ],
   "metadata": {
    "collapsed": false,
    "pycharm": {
     "name": "#%%\n"
    }
   }
  },
  {
   "cell_type": "markdown",
   "source": [
    "### 3.使用数值区间进行范围查询\n",
    "loc：按index查询 iloc：按数查询"
   ],
   "metadata": {
    "collapsed": false,
    "pycharm": {
     "name": "#%% md\n"
    }
   }
  },
  {
   "cell_type": "code",
   "execution_count": 61,
   "outputs": [
    {
     "data": {
      "text/plain": "            bWendu  yWendu tianqi fengxiang\nymd                                        \n2018-01-03       2      -5     多云        北风\n2018-01-04       0      -8      阴       东北风\n2018-01-05       3      -6   多云~晴       西北风",
      "text/html": "<div>\n<style scoped>\n    .dataframe tbody tr th:only-of-type {\n        vertical-align: middle;\n    }\n\n    .dataframe tbody tr th {\n        vertical-align: top;\n    }\n\n    .dataframe thead th {\n        text-align: right;\n    }\n</style>\n<table border=\"1\" class=\"dataframe\">\n  <thead>\n    <tr style=\"text-align: right;\">\n      <th></th>\n      <th>bWendu</th>\n      <th>yWendu</th>\n      <th>tianqi</th>\n      <th>fengxiang</th>\n    </tr>\n    <tr>\n      <th>ymd</th>\n      <th></th>\n      <th></th>\n      <th></th>\n      <th></th>\n    </tr>\n  </thead>\n  <tbody>\n    <tr>\n      <th>2018-01-03</th>\n      <td>2</td>\n      <td>-5</td>\n      <td>多云</td>\n      <td>北风</td>\n    </tr>\n    <tr>\n      <th>2018-01-04</th>\n      <td>0</td>\n      <td>-8</td>\n      <td>阴</td>\n      <td>东北风</td>\n    </tr>\n    <tr>\n      <th>2018-01-05</th>\n      <td>3</td>\n      <td>-6</td>\n      <td>多云~晴</td>\n      <td>西北风</td>\n    </tr>\n  </tbody>\n</table>\n</div>"
     },
     "execution_count": 61,
     "metadata": {},
     "output_type": "execute_result"
    }
   ],
   "source": [
    "df.loc['2018-01-03':'2018-01-05','bWendu':'fengxiang']"
   ],
   "metadata": {
    "collapsed": false,
    "pycharm": {
     "name": "#%%\n"
    }
   }
  },
  {
   "cell_type": "markdown",
   "source": [
    "### 4.使用条件表达式查询"
   ],
   "metadata": {
    "collapsed": false,
    "pycharm": {
     "name": "#%% md\n"
    }
   }
  },
  {
   "cell_type": "code",
   "execution_count": 62,
   "outputs": [
    {
     "data": {
      "text/plain": "            bWendu  yWendu tianqi fengxiang fengli  aqi aqiInfo  aqiLevel\nymd                                                                      \n2018-08-24      30      20      晴        北风   1-2级   40       优         1\n2018-09-07      27      16      晴       西北风   3-4级   22       优         1",
      "text/html": "<div>\n<style scoped>\n    .dataframe tbody tr th:only-of-type {\n        vertical-align: middle;\n    }\n\n    .dataframe tbody tr th {\n        vertical-align: top;\n    }\n\n    .dataframe thead th {\n        text-align: right;\n    }\n</style>\n<table border=\"1\" class=\"dataframe\">\n  <thead>\n    <tr style=\"text-align: right;\">\n      <th></th>\n      <th>bWendu</th>\n      <th>yWendu</th>\n      <th>tianqi</th>\n      <th>fengxiang</th>\n      <th>fengli</th>\n      <th>aqi</th>\n      <th>aqiInfo</th>\n      <th>aqiLevel</th>\n    </tr>\n    <tr>\n      <th>ymd</th>\n      <th></th>\n      <th></th>\n      <th></th>\n      <th></th>\n      <th></th>\n      <th></th>\n      <th></th>\n      <th></th>\n    </tr>\n  </thead>\n  <tbody>\n    <tr>\n      <th>2018-08-24</th>\n      <td>30</td>\n      <td>20</td>\n      <td>晴</td>\n      <td>北风</td>\n      <td>1-2级</td>\n      <td>40</td>\n      <td>优</td>\n      <td>1</td>\n    </tr>\n    <tr>\n      <th>2018-09-07</th>\n      <td>27</td>\n      <td>16</td>\n      <td>晴</td>\n      <td>西北风</td>\n      <td>3-4级</td>\n      <td>22</td>\n      <td>优</td>\n      <td>1</td>\n    </tr>\n  </tbody>\n</table>\n</div>"
     },
     "execution_count": 62,
     "metadata": {},
     "output_type": "execute_result"
    }
   ],
   "source": [
    "# 查询最高温度小于30，且最低温度大于15度，并且是晴天，并且天气为优的数据\n",
    "# df.loc[(df['bWendu'] <=30) & (df['yWendu'] >=15) & (df['tianqi'] == '晴') & (df['aqiInfo'] == '优')]\n",
    "df[(df['bWendu'] <= 30) & (df['yWendu'] >= 15) & (df['tianqi'] == '晴') & (df['aqiInfo'] == '优')]"
   ],
   "metadata": {
    "collapsed": false,
    "pycharm": {
     "name": "#%%\n"
    }
   }
  },
  {
   "cell_type": "markdown",
   "source": [
    "### 5.调用函数查询"
   ],
   "metadata": {
    "collapsed": false,
    "pycharm": {
     "name": "#%% md\n"
    }
   }
  },
  {
   "cell_type": "code",
   "execution_count": 63,
   "outputs": [
    {
     "data": {
      "text/plain": "            bWendu  yWendu tianqi fengxiang fengli  aqi aqiInfo  aqiLevel\nymd                                                                      \n2018-04-28      27      17      晴       西南风   3-4级  125    轻度污染         3\n2018-04-29      30      16     多云        南风   3-4级  193    中度污染         4\n2018-05-04      27      16   晴~多云       西南风   1-2级   86       良         2\n2018-05-09      29      17   晴~多云       西南风   3-4级   79       良         2\n2018-05-10      26      18     多云        南风   3-4级  118    轻度污染         3\n...            ...     ...    ...       ...    ...  ...     ...       ...\n2018-09-15      26      15     多云        北风   3-4级   42       优         1\n2018-09-17      27      17   多云~阴        北风   1-2级   37       优         1\n2018-09-18      25      17   阴~多云       西南风   1-2级   50       优         1\n2018-09-19      26      17     多云        南风   1-2级   52       良         2\n2018-09-20      27      16     多云       西南风   1-2级   63       良         2\n\n[64 rows x 8 columns]",
      "text/html": "<div>\n<style scoped>\n    .dataframe tbody tr th:only-of-type {\n        vertical-align: middle;\n    }\n\n    .dataframe tbody tr th {\n        vertical-align: top;\n    }\n\n    .dataframe thead th {\n        text-align: right;\n    }\n</style>\n<table border=\"1\" class=\"dataframe\">\n  <thead>\n    <tr style=\"text-align: right;\">\n      <th></th>\n      <th>bWendu</th>\n      <th>yWendu</th>\n      <th>tianqi</th>\n      <th>fengxiang</th>\n      <th>fengli</th>\n      <th>aqi</th>\n      <th>aqiInfo</th>\n      <th>aqiLevel</th>\n    </tr>\n    <tr>\n      <th>ymd</th>\n      <th></th>\n      <th></th>\n      <th></th>\n      <th></th>\n      <th></th>\n      <th></th>\n      <th></th>\n      <th></th>\n    </tr>\n  </thead>\n  <tbody>\n    <tr>\n      <th>2018-04-28</th>\n      <td>27</td>\n      <td>17</td>\n      <td>晴</td>\n      <td>西南风</td>\n      <td>3-4级</td>\n      <td>125</td>\n      <td>轻度污染</td>\n      <td>3</td>\n    </tr>\n    <tr>\n      <th>2018-04-29</th>\n      <td>30</td>\n      <td>16</td>\n      <td>多云</td>\n      <td>南风</td>\n      <td>3-4级</td>\n      <td>193</td>\n      <td>中度污染</td>\n      <td>4</td>\n    </tr>\n    <tr>\n      <th>2018-05-04</th>\n      <td>27</td>\n      <td>16</td>\n      <td>晴~多云</td>\n      <td>西南风</td>\n      <td>1-2级</td>\n      <td>86</td>\n      <td>良</td>\n      <td>2</td>\n    </tr>\n    <tr>\n      <th>2018-05-09</th>\n      <td>29</td>\n      <td>17</td>\n      <td>晴~多云</td>\n      <td>西南风</td>\n      <td>3-4级</td>\n      <td>79</td>\n      <td>良</td>\n      <td>2</td>\n    </tr>\n    <tr>\n      <th>2018-05-10</th>\n      <td>26</td>\n      <td>18</td>\n      <td>多云</td>\n      <td>南风</td>\n      <td>3-4级</td>\n      <td>118</td>\n      <td>轻度污染</td>\n      <td>3</td>\n    </tr>\n    <tr>\n      <th>...</th>\n      <td>...</td>\n      <td>...</td>\n      <td>...</td>\n      <td>...</td>\n      <td>...</td>\n      <td>...</td>\n      <td>...</td>\n      <td>...</td>\n    </tr>\n    <tr>\n      <th>2018-09-15</th>\n      <td>26</td>\n      <td>15</td>\n      <td>多云</td>\n      <td>北风</td>\n      <td>3-4级</td>\n      <td>42</td>\n      <td>优</td>\n      <td>1</td>\n    </tr>\n    <tr>\n      <th>2018-09-17</th>\n      <td>27</td>\n      <td>17</td>\n      <td>多云~阴</td>\n      <td>北风</td>\n      <td>1-2级</td>\n      <td>37</td>\n      <td>优</td>\n      <td>1</td>\n    </tr>\n    <tr>\n      <th>2018-09-18</th>\n      <td>25</td>\n      <td>17</td>\n      <td>阴~多云</td>\n      <td>西南风</td>\n      <td>1-2级</td>\n      <td>50</td>\n      <td>优</td>\n      <td>1</td>\n    </tr>\n    <tr>\n      <th>2018-09-19</th>\n      <td>26</td>\n      <td>17</td>\n      <td>多云</td>\n      <td>南风</td>\n      <td>1-2级</td>\n      <td>52</td>\n      <td>良</td>\n      <td>2</td>\n    </tr>\n    <tr>\n      <th>2018-09-20</th>\n      <td>27</td>\n      <td>16</td>\n      <td>多云</td>\n      <td>西南风</td>\n      <td>1-2级</td>\n      <td>63</td>\n      <td>良</td>\n      <td>2</td>\n    </tr>\n  </tbody>\n</table>\n<p>64 rows × 8 columns</p>\n</div>"
     },
     "execution_count": 63,
     "metadata": {},
     "output_type": "execute_result"
    }
   ],
   "source": [
    "df[lambda x:(x['bWendu'] <=30) & (x['yWendu'] >= 15) ]"
   ],
   "metadata": {
    "collapsed": false,
    "pycharm": {
     "name": "#%%\n"
    }
   }
  },
  {
   "cell_type": "markdown",
   "source": [
    "## pandas怎样新增数据列？"
   ],
   "metadata": {
    "collapsed": false,
    "pycharm": {
     "name": "#%% md\n"
    }
   }
  },
  {
   "cell_type": "markdown",
   "source": [
    "### 1.直接赋值"
   ],
   "metadata": {
    "collapsed": false,
    "pycharm": {
     "name": "#%% md\n"
    }
   }
  },
  {
   "cell_type": "code",
   "execution_count": 64,
   "outputs": [
    {
     "data": {
      "text/plain": "            bWendu  yWendu tianqi fengxiang fengli  aqi aqiInfo  aqiLevel  \\\nymd                                                                         \n2018-01-01       3      -6   晴~多云       东北风   1-2级   59       良         2   \n2018-01-02       2      -5   阴~多云       东北风   1-2级   49       优         1   \n2018-01-03       2      -5     多云        北风   1-2级   28       优         1   \n2018-01-04       0      -8      阴       东北风   1-2级   28       优         1   \n2018-01-05       3      -6   多云~晴       西北风   1-2级   50       优         1   \n\n            wencha  \nymd                 \n2018-01-01       9  \n2018-01-02       7  \n2018-01-03       7  \n2018-01-04       8  \n2018-01-05       9  ",
      "text/html": "<div>\n<style scoped>\n    .dataframe tbody tr th:only-of-type {\n        vertical-align: middle;\n    }\n\n    .dataframe tbody tr th {\n        vertical-align: top;\n    }\n\n    .dataframe thead th {\n        text-align: right;\n    }\n</style>\n<table border=\"1\" class=\"dataframe\">\n  <thead>\n    <tr style=\"text-align: right;\">\n      <th></th>\n      <th>bWendu</th>\n      <th>yWendu</th>\n      <th>tianqi</th>\n      <th>fengxiang</th>\n      <th>fengli</th>\n      <th>aqi</th>\n      <th>aqiInfo</th>\n      <th>aqiLevel</th>\n      <th>wencha</th>\n    </tr>\n    <tr>\n      <th>ymd</th>\n      <th></th>\n      <th></th>\n      <th></th>\n      <th></th>\n      <th></th>\n      <th></th>\n      <th></th>\n      <th></th>\n      <th></th>\n    </tr>\n  </thead>\n  <tbody>\n    <tr>\n      <th>2018-01-01</th>\n      <td>3</td>\n      <td>-6</td>\n      <td>晴~多云</td>\n      <td>东北风</td>\n      <td>1-2级</td>\n      <td>59</td>\n      <td>良</td>\n      <td>2</td>\n      <td>9</td>\n    </tr>\n    <tr>\n      <th>2018-01-02</th>\n      <td>2</td>\n      <td>-5</td>\n      <td>阴~多云</td>\n      <td>东北风</td>\n      <td>1-2级</td>\n      <td>49</td>\n      <td>优</td>\n      <td>1</td>\n      <td>7</td>\n    </tr>\n    <tr>\n      <th>2018-01-03</th>\n      <td>2</td>\n      <td>-5</td>\n      <td>多云</td>\n      <td>北风</td>\n      <td>1-2级</td>\n      <td>28</td>\n      <td>优</td>\n      <td>1</td>\n      <td>7</td>\n    </tr>\n    <tr>\n      <th>2018-01-04</th>\n      <td>0</td>\n      <td>-8</td>\n      <td>阴</td>\n      <td>东北风</td>\n      <td>1-2级</td>\n      <td>28</td>\n      <td>优</td>\n      <td>1</td>\n      <td>8</td>\n    </tr>\n    <tr>\n      <th>2018-01-05</th>\n      <td>3</td>\n      <td>-6</td>\n      <td>多云~晴</td>\n      <td>西北风</td>\n      <td>1-2级</td>\n      <td>50</td>\n      <td>优</td>\n      <td>1</td>\n      <td>9</td>\n    </tr>\n  </tbody>\n</table>\n</div>"
     },
     "execution_count": 64,
     "metadata": {},
     "output_type": "execute_result"
    }
   ],
   "source": [
    "# df.loc[:,'wencha'] = df['bWendu'] - df['yWendu']\n",
    "df['wencha'] = df['bWendu'] - df['yWendu']\n",
    "# df.loc[:,'wencha'] = df[df['bWendu'] - df['yWendu']]是错的，因为df['bWendu'] - df['yWendu']才是Series\n",
    "df.head()"
   ],
   "metadata": {
    "collapsed": false,
    "pycharm": {
     "name": "#%%\n"
    }
   }
  },
  {
   "cell_type": "markdown",
   "source": [
    "### 2.df.apply方法\n"
   ],
   "metadata": {
    "collapsed": false,
    "pycharm": {
     "name": "#%% md\n"
    }
   }
  },
  {
   "cell_type": "code",
   "execution_count": 65,
   "outputs": [
    {
     "data": {
      "text/plain": "            bWendu  yWendu tianqi fengxiang fengli  aqi aqiInfo  aqiLevel  \\\nymd                                                                         \n2018-01-01       3      -6   晴~多云       东北风   1-2级   59       良         2   \n2018-01-02       2      -5   阴~多云       东北风   1-2级   49       优         1   \n2018-01-03       2      -5     多云        北风   1-2级   28       优         1   \n2018-01-04       0      -8      阴       东北风   1-2级   28       优         1   \n2018-01-05       3      -6   多云~晴       西北风   1-2级   50       优         1   \n\n            wencha  wencha1  \nymd                          \n2018-01-01       9        9  \n2018-01-02       7        7  \n2018-01-03       7        7  \n2018-01-04       8        8  \n2018-01-05       9        9  ",
      "text/html": "<div>\n<style scoped>\n    .dataframe tbody tr th:only-of-type {\n        vertical-align: middle;\n    }\n\n    .dataframe tbody tr th {\n        vertical-align: top;\n    }\n\n    .dataframe thead th {\n        text-align: right;\n    }\n</style>\n<table border=\"1\" class=\"dataframe\">\n  <thead>\n    <tr style=\"text-align: right;\">\n      <th></th>\n      <th>bWendu</th>\n      <th>yWendu</th>\n      <th>tianqi</th>\n      <th>fengxiang</th>\n      <th>fengli</th>\n      <th>aqi</th>\n      <th>aqiInfo</th>\n      <th>aqiLevel</th>\n      <th>wencha</th>\n      <th>wencha1</th>\n    </tr>\n    <tr>\n      <th>ymd</th>\n      <th></th>\n      <th></th>\n      <th></th>\n      <th></th>\n      <th></th>\n      <th></th>\n      <th></th>\n      <th></th>\n      <th></th>\n      <th></th>\n    </tr>\n  </thead>\n  <tbody>\n    <tr>\n      <th>2018-01-01</th>\n      <td>3</td>\n      <td>-6</td>\n      <td>晴~多云</td>\n      <td>东北风</td>\n      <td>1-2级</td>\n      <td>59</td>\n      <td>良</td>\n      <td>2</td>\n      <td>9</td>\n      <td>9</td>\n    </tr>\n    <tr>\n      <th>2018-01-02</th>\n      <td>2</td>\n      <td>-5</td>\n      <td>阴~多云</td>\n      <td>东北风</td>\n      <td>1-2级</td>\n      <td>49</td>\n      <td>优</td>\n      <td>1</td>\n      <td>7</td>\n      <td>7</td>\n    </tr>\n    <tr>\n      <th>2018-01-03</th>\n      <td>2</td>\n      <td>-5</td>\n      <td>多云</td>\n      <td>北风</td>\n      <td>1-2级</td>\n      <td>28</td>\n      <td>优</td>\n      <td>1</td>\n      <td>7</td>\n      <td>7</td>\n    </tr>\n    <tr>\n      <th>2018-01-04</th>\n      <td>0</td>\n      <td>-8</td>\n      <td>阴</td>\n      <td>东北风</td>\n      <td>1-2级</td>\n      <td>28</td>\n      <td>优</td>\n      <td>1</td>\n      <td>8</td>\n      <td>8</td>\n    </tr>\n    <tr>\n      <th>2018-01-05</th>\n      <td>3</td>\n      <td>-6</td>\n      <td>多云~晴</td>\n      <td>西北风</td>\n      <td>1-2级</td>\n      <td>50</td>\n      <td>优</td>\n      <td>1</td>\n      <td>9</td>\n      <td>9</td>\n    </tr>\n  </tbody>\n</table>\n</div>"
     },
     "execution_count": 65,
     "metadata": {},
     "output_type": "execute_result"
    }
   ],
   "source": [
    "df['wencha1'] = df.apply(lambda x: x['bWendu']-x['yWendu'],axis=1)\n",
    "df.head()"
   ],
   "metadata": {
    "collapsed": false,
    "pycharm": {
     "name": "#%%\n"
    }
   }
  },
  {
   "cell_type": "markdown",
   "source": [
    " 必须axis=1，1：表示横向计算（列增减）；0：表示纵向计算（行增减）"
   ],
   "metadata": {
    "collapsed": false,
    "pycharm": {
     "name": "#%% md\n"
    }
   }
  },
  {
   "cell_type": "code",
   "execution_count": 66,
   "outputs": [
    {
     "data": {
      "text/plain": "            bWendu  yWendu tianqi fengxiang fengli  aqi aqiInfo  aqiLevel  \\\nymd                                                                         \n2018-01-01       3      -6   晴~多云       东北风   1-2级   59       良         2   \n2018-01-02       2      -5   阴~多云       东北风   1-2级   49       优         1   \n2018-01-03       2      -5     多云        北风   1-2级   28       优         1   \n2018-01-04       0      -8      阴       东北风   1-2级   28       优         1   \n2018-01-05       3      -6   多云~晴       西北风   1-2级   50       优         1   \n\n            wencha  wencha1 wendu_type  \nymd                                     \n2018-01-01       9        9         常温  \n2018-01-02       7        7         常温  \n2018-01-03       7        7         常温  \n2018-01-04       8        8         常温  \n2018-01-05       9        9         常温  ",
      "text/html": "<div>\n<style scoped>\n    .dataframe tbody tr th:only-of-type {\n        vertical-align: middle;\n    }\n\n    .dataframe tbody tr th {\n        vertical-align: top;\n    }\n\n    .dataframe thead th {\n        text-align: right;\n    }\n</style>\n<table border=\"1\" class=\"dataframe\">\n  <thead>\n    <tr style=\"text-align: right;\">\n      <th></th>\n      <th>bWendu</th>\n      <th>yWendu</th>\n      <th>tianqi</th>\n      <th>fengxiang</th>\n      <th>fengli</th>\n      <th>aqi</th>\n      <th>aqiInfo</th>\n      <th>aqiLevel</th>\n      <th>wencha</th>\n      <th>wencha1</th>\n      <th>wendu_type</th>\n    </tr>\n    <tr>\n      <th>ymd</th>\n      <th></th>\n      <th></th>\n      <th></th>\n      <th></th>\n      <th></th>\n      <th></th>\n      <th></th>\n      <th></th>\n      <th></th>\n      <th></th>\n      <th></th>\n    </tr>\n  </thead>\n  <tbody>\n    <tr>\n      <th>2018-01-01</th>\n      <td>3</td>\n      <td>-6</td>\n      <td>晴~多云</td>\n      <td>东北风</td>\n      <td>1-2级</td>\n      <td>59</td>\n      <td>良</td>\n      <td>2</td>\n      <td>9</td>\n      <td>9</td>\n      <td>常温</td>\n    </tr>\n    <tr>\n      <th>2018-01-02</th>\n      <td>2</td>\n      <td>-5</td>\n      <td>阴~多云</td>\n      <td>东北风</td>\n      <td>1-2级</td>\n      <td>49</td>\n      <td>优</td>\n      <td>1</td>\n      <td>7</td>\n      <td>7</td>\n      <td>常温</td>\n    </tr>\n    <tr>\n      <th>2018-01-03</th>\n      <td>2</td>\n      <td>-5</td>\n      <td>多云</td>\n      <td>北风</td>\n      <td>1-2级</td>\n      <td>28</td>\n      <td>优</td>\n      <td>1</td>\n      <td>7</td>\n      <td>7</td>\n      <td>常温</td>\n    </tr>\n    <tr>\n      <th>2018-01-04</th>\n      <td>0</td>\n      <td>-8</td>\n      <td>阴</td>\n      <td>东北风</td>\n      <td>1-2级</td>\n      <td>28</td>\n      <td>优</td>\n      <td>1</td>\n      <td>8</td>\n      <td>8</td>\n      <td>常温</td>\n    </tr>\n    <tr>\n      <th>2018-01-05</th>\n      <td>3</td>\n      <td>-6</td>\n      <td>多云~晴</td>\n      <td>西北风</td>\n      <td>1-2级</td>\n      <td>50</td>\n      <td>优</td>\n      <td>1</td>\n      <td>9</td>\n      <td>9</td>\n      <td>常温</td>\n    </tr>\n  </tbody>\n</table>\n</div>"
     },
     "execution_count": 66,
     "metadata": {},
     "output_type": "execute_result"
    }
   ],
   "source": [
    "def get_wendu_type(x):\n",
    "    if x['bWendu'] > 33:\n",
    "        return '高温'\n",
    "    if x['yWendu'] < -10:\n",
    "        return '低温'\n",
    "    return '常温'\n",
    "df['wendu_type'] = df.apply(get_wendu_type,axis=1)\n",
    "df.head()"
   ],
   "metadata": {
    "collapsed": false,
    "pycharm": {
     "name": "#%%\n"
    }
   }
  },
  {
   "cell_type": "markdown",
   "source": [
    "查看温度类型的计数"
   ],
   "metadata": {
    "collapsed": false,
    "pycharm": {
     "name": "#%% md\n"
    }
   }
  },
  {
   "cell_type": "code",
   "execution_count": 67,
   "outputs": [
    {
     "data": {
      "text/plain": "常温    328\n高温     29\n低温      8\nName: wendu_type, dtype: int64"
     },
     "execution_count": 67,
     "metadata": {},
     "output_type": "execute_result"
    }
   ],
   "source": [
    "df['wendu_type'].value_counts()"
   ],
   "metadata": {
    "collapsed": false,
    "pycharm": {
     "name": "#%%\n"
    }
   }
  },
  {
   "cell_type": "markdown",
   "source": [
    "### 3 df.assign方法\n",
    "可以同时添加多个新的列\n",
    "不会修改原来的df"
   ],
   "metadata": {
    "collapsed": false,
    "pycharm": {
     "name": "#%% md\n"
    }
   }
  },
  {
   "cell_type": "code",
   "execution_count": 68,
   "outputs": [
    {
     "data": {
      "text/plain": "            bWendu  yWendu tianqi fengxiang fengli  aqi aqiInfo  aqiLevel  \\\nymd                                                                         \n2018-01-01       3      -6   晴~多云       东北风   1-2级   59       良         2   \n2018-01-02       2      -5   阴~多云       东北风   1-2级   49       优         1   \n2018-01-03       2      -5     多云        北风   1-2级   28       优         1   \n2018-01-04       0      -8      阴       东北风   1-2级   28       优         1   \n2018-01-05       3      -6   多云~晴       西北风   1-2级   50       优         1   \n...            ...     ...    ...       ...    ...  ...     ...       ...   \n2018-12-27      -5     -12   多云~晴       西北风     3级   48       优         1   \n2018-12-28      -3     -11      晴       西北风     3级   40       优         1   \n2018-12-29      -3     -12      晴       西北风     2级   29       优         1   \n2018-12-30      -2     -11   晴~多云       东北风     1级   31       优         1   \n2018-12-31      -2     -10     多云       东北风     1级   56       良         2   \n\n            wencha  wencha1 wendu_type  yWendu_hs  bWendu_hs  \nymd                                                           \n2018-01-01       9        9         常温       21.2       37.4  \n2018-01-02       7        7         常温       23.0       35.6  \n2018-01-03       7        7         常温       23.0       35.6  \n2018-01-04       8        8         常温       17.6       32.0  \n2018-01-05       9        9         常温       21.2       37.4  \n...            ...      ...        ...        ...        ...  \n2018-12-27       7        7         低温       10.4       23.0  \n2018-12-28       8        8         低温       12.2       26.6  \n2018-12-29       9        9         低温       10.4       26.6  \n2018-12-30       9        9         低温       12.2       28.4  \n2018-12-31       8        8         常温       14.0       28.4  \n\n[365 rows x 13 columns]",
      "text/html": "<div>\n<style scoped>\n    .dataframe tbody tr th:only-of-type {\n        vertical-align: middle;\n    }\n\n    .dataframe tbody tr th {\n        vertical-align: top;\n    }\n\n    .dataframe thead th {\n        text-align: right;\n    }\n</style>\n<table border=\"1\" class=\"dataframe\">\n  <thead>\n    <tr style=\"text-align: right;\">\n      <th></th>\n      <th>bWendu</th>\n      <th>yWendu</th>\n      <th>tianqi</th>\n      <th>fengxiang</th>\n      <th>fengli</th>\n      <th>aqi</th>\n      <th>aqiInfo</th>\n      <th>aqiLevel</th>\n      <th>wencha</th>\n      <th>wencha1</th>\n      <th>wendu_type</th>\n      <th>yWendu_hs</th>\n      <th>bWendu_hs</th>\n    </tr>\n    <tr>\n      <th>ymd</th>\n      <th></th>\n      <th></th>\n      <th></th>\n      <th></th>\n      <th></th>\n      <th></th>\n      <th></th>\n      <th></th>\n      <th></th>\n      <th></th>\n      <th></th>\n      <th></th>\n      <th></th>\n    </tr>\n  </thead>\n  <tbody>\n    <tr>\n      <th>2018-01-01</th>\n      <td>3</td>\n      <td>-6</td>\n      <td>晴~多云</td>\n      <td>东北风</td>\n      <td>1-2级</td>\n      <td>59</td>\n      <td>良</td>\n      <td>2</td>\n      <td>9</td>\n      <td>9</td>\n      <td>常温</td>\n      <td>21.2</td>\n      <td>37.4</td>\n    </tr>\n    <tr>\n      <th>2018-01-02</th>\n      <td>2</td>\n      <td>-5</td>\n      <td>阴~多云</td>\n      <td>东北风</td>\n      <td>1-2级</td>\n      <td>49</td>\n      <td>优</td>\n      <td>1</td>\n      <td>7</td>\n      <td>7</td>\n      <td>常温</td>\n      <td>23.0</td>\n      <td>35.6</td>\n    </tr>\n    <tr>\n      <th>2018-01-03</th>\n      <td>2</td>\n      <td>-5</td>\n      <td>多云</td>\n      <td>北风</td>\n      <td>1-2级</td>\n      <td>28</td>\n      <td>优</td>\n      <td>1</td>\n      <td>7</td>\n      <td>7</td>\n      <td>常温</td>\n      <td>23.0</td>\n      <td>35.6</td>\n    </tr>\n    <tr>\n      <th>2018-01-04</th>\n      <td>0</td>\n      <td>-8</td>\n      <td>阴</td>\n      <td>东北风</td>\n      <td>1-2级</td>\n      <td>28</td>\n      <td>优</td>\n      <td>1</td>\n      <td>8</td>\n      <td>8</td>\n      <td>常温</td>\n      <td>17.6</td>\n      <td>32.0</td>\n    </tr>\n    <tr>\n      <th>2018-01-05</th>\n      <td>3</td>\n      <td>-6</td>\n      <td>多云~晴</td>\n      <td>西北风</td>\n      <td>1-2级</td>\n      <td>50</td>\n      <td>优</td>\n      <td>1</td>\n      <td>9</td>\n      <td>9</td>\n      <td>常温</td>\n      <td>21.2</td>\n      <td>37.4</td>\n    </tr>\n    <tr>\n      <th>...</th>\n      <td>...</td>\n      <td>...</td>\n      <td>...</td>\n      <td>...</td>\n      <td>...</td>\n      <td>...</td>\n      <td>...</td>\n      <td>...</td>\n      <td>...</td>\n      <td>...</td>\n      <td>...</td>\n      <td>...</td>\n      <td>...</td>\n    </tr>\n    <tr>\n      <th>2018-12-27</th>\n      <td>-5</td>\n      <td>-12</td>\n      <td>多云~晴</td>\n      <td>西北风</td>\n      <td>3级</td>\n      <td>48</td>\n      <td>优</td>\n      <td>1</td>\n      <td>7</td>\n      <td>7</td>\n      <td>低温</td>\n      <td>10.4</td>\n      <td>23.0</td>\n    </tr>\n    <tr>\n      <th>2018-12-28</th>\n      <td>-3</td>\n      <td>-11</td>\n      <td>晴</td>\n      <td>西北风</td>\n      <td>3级</td>\n      <td>40</td>\n      <td>优</td>\n      <td>1</td>\n      <td>8</td>\n      <td>8</td>\n      <td>低温</td>\n      <td>12.2</td>\n      <td>26.6</td>\n    </tr>\n    <tr>\n      <th>2018-12-29</th>\n      <td>-3</td>\n      <td>-12</td>\n      <td>晴</td>\n      <td>西北风</td>\n      <td>2级</td>\n      <td>29</td>\n      <td>优</td>\n      <td>1</td>\n      <td>9</td>\n      <td>9</td>\n      <td>低温</td>\n      <td>10.4</td>\n      <td>26.6</td>\n    </tr>\n    <tr>\n      <th>2018-12-30</th>\n      <td>-2</td>\n      <td>-11</td>\n      <td>晴~多云</td>\n      <td>东北风</td>\n      <td>1级</td>\n      <td>31</td>\n      <td>优</td>\n      <td>1</td>\n      <td>9</td>\n      <td>9</td>\n      <td>低温</td>\n      <td>12.2</td>\n      <td>28.4</td>\n    </tr>\n    <tr>\n      <th>2018-12-31</th>\n      <td>-2</td>\n      <td>-10</td>\n      <td>多云</td>\n      <td>东北风</td>\n      <td>1级</td>\n      <td>56</td>\n      <td>良</td>\n      <td>2</td>\n      <td>8</td>\n      <td>8</td>\n      <td>常温</td>\n      <td>14.0</td>\n      <td>28.4</td>\n    </tr>\n  </tbody>\n</table>\n<p>365 rows × 13 columns</p>\n</div>"
     },
     "execution_count": 68,
     "metadata": {},
     "output_type": "execute_result"
    }
   ],
   "source": [
    "df.assign(\n",
    "    yWendu_hs = lambda x: x['yWendu'] * 9 /5 + 32,\n",
    "    bWendu_hs = lambda x: x['bWendu'] * 9 /5 + 32\n",
    ")"
   ],
   "metadata": {
    "collapsed": false,
    "pycharm": {
     "name": "#%%\n"
    }
   }
  },
  {
   "cell_type": "markdown",
   "source": [
    "### 4.按条件选择分组分别赋值"
   ],
   "metadata": {
    "collapsed": false,
    "pycharm": {
     "name": "#%% md\n"
    }
   }
  },
  {
   "cell_type": "code",
   "execution_count": 69,
   "outputs": [
    {
     "data": {
      "text/plain": "            bWendu  yWendu tianqi fengxiang fengli  aqi aqiInfo  aqiLevel  \\\nymd                                                                         \n2018-01-01       3      -6   晴~多云       东北风   1-2级   59       良         2   \n2018-01-02       2      -5   阴~多云       东北风   1-2级   49       优         1   \n2018-01-03       2      -5     多云        北风   1-2级   28       优         1   \n2018-01-04       0      -8      阴       东北风   1-2级   28       优         1   \n2018-01-05       3      -6   多云~晴       西北风   1-2级   50       优         1   \n\n            wencha  wencha1 wendu_type wencha_type  \nymd                                                 \n2018-01-01       9        9         常温        温差正常  \n2018-01-02       7        7         常温        温差正常  \n2018-01-03       7        7         常温        温差正常  \n2018-01-04       8        8         常温        温差正常  \n2018-01-05       9        9         常温        温差正常  ",
      "text/html": "<div>\n<style scoped>\n    .dataframe tbody tr th:only-of-type {\n        vertical-align: middle;\n    }\n\n    .dataframe tbody tr th {\n        vertical-align: top;\n    }\n\n    .dataframe thead th {\n        text-align: right;\n    }\n</style>\n<table border=\"1\" class=\"dataframe\">\n  <thead>\n    <tr style=\"text-align: right;\">\n      <th></th>\n      <th>bWendu</th>\n      <th>yWendu</th>\n      <th>tianqi</th>\n      <th>fengxiang</th>\n      <th>fengli</th>\n      <th>aqi</th>\n      <th>aqiInfo</th>\n      <th>aqiLevel</th>\n      <th>wencha</th>\n      <th>wencha1</th>\n      <th>wendu_type</th>\n      <th>wencha_type</th>\n    </tr>\n    <tr>\n      <th>ymd</th>\n      <th></th>\n      <th></th>\n      <th></th>\n      <th></th>\n      <th></th>\n      <th></th>\n      <th></th>\n      <th></th>\n      <th></th>\n      <th></th>\n      <th></th>\n      <th></th>\n    </tr>\n  </thead>\n  <tbody>\n    <tr>\n      <th>2018-01-01</th>\n      <td>3</td>\n      <td>-6</td>\n      <td>晴~多云</td>\n      <td>东北风</td>\n      <td>1-2级</td>\n      <td>59</td>\n      <td>良</td>\n      <td>2</td>\n      <td>9</td>\n      <td>9</td>\n      <td>常温</td>\n      <td>温差正常</td>\n    </tr>\n    <tr>\n      <th>2018-01-02</th>\n      <td>2</td>\n      <td>-5</td>\n      <td>阴~多云</td>\n      <td>东北风</td>\n      <td>1-2级</td>\n      <td>49</td>\n      <td>优</td>\n      <td>1</td>\n      <td>7</td>\n      <td>7</td>\n      <td>常温</td>\n      <td>温差正常</td>\n    </tr>\n    <tr>\n      <th>2018-01-03</th>\n      <td>2</td>\n      <td>-5</td>\n      <td>多云</td>\n      <td>北风</td>\n      <td>1-2级</td>\n      <td>28</td>\n      <td>优</td>\n      <td>1</td>\n      <td>7</td>\n      <td>7</td>\n      <td>常温</td>\n      <td>温差正常</td>\n    </tr>\n    <tr>\n      <th>2018-01-04</th>\n      <td>0</td>\n      <td>-8</td>\n      <td>阴</td>\n      <td>东北风</td>\n      <td>1-2级</td>\n      <td>28</td>\n      <td>优</td>\n      <td>1</td>\n      <td>8</td>\n      <td>8</td>\n      <td>常温</td>\n      <td>温差正常</td>\n    </tr>\n    <tr>\n      <th>2018-01-05</th>\n      <td>3</td>\n      <td>-6</td>\n      <td>多云~晴</td>\n      <td>西北风</td>\n      <td>1-2级</td>\n      <td>50</td>\n      <td>优</td>\n      <td>1</td>\n      <td>9</td>\n      <td>9</td>\n      <td>常温</td>\n      <td>温差正常</td>\n    </tr>\n  </tbody>\n</table>\n</div>"
     },
     "execution_count": 69,
     "metadata": {},
     "output_type": "execute_result"
    }
   ],
   "source": [
    "df['wencha_type'] = df.apply(lambda x:\"温差大\" if (x['bWendu'] - x['yWendu'] > 10) else \"温差正常\",axis=1)\n",
    "df.head()"
   ],
   "metadata": {
    "collapsed": false,
    "pycharm": {
     "name": "#%%\n"
    }
   }
  },
  {
   "cell_type": "markdown",
   "source": [
    "## 数据统计函数"
   ],
   "metadata": {
    "collapsed": false,
    "pycharm": {
     "name": "#%% md\n"
    }
   }
  },
  {
   "cell_type": "markdown",
   "source": [
    "### 1.汇总类统计\n",
    "只能对数字类型的统计计算"
   ],
   "metadata": {
    "collapsed": false,
    "pycharm": {
     "name": "#%% md\n"
    }
   }
  },
  {
   "cell_type": "code",
   "execution_count": 70,
   "outputs": [
    {
     "data": {
      "text/plain": "           bWendu      yWendu         aqi    aqiLevel      wencha     wencha1\ncount  365.000000  365.000000  365.000000  365.000000  365.000000  365.000000\nmean    18.665753    8.358904   82.183562    2.090411   10.306849   10.306849\nstd     11.858046   11.755053   51.936159    1.029798    2.781233    2.781233\nmin     -5.000000  -12.000000   21.000000    1.000000    2.000000    2.000000\n25%      8.000000   -3.000000   46.000000    1.000000    8.000000    8.000000\n50%     21.000000    8.000000   69.000000    2.000000   10.000000   10.000000\n75%     29.000000   19.000000  104.000000    3.000000   12.000000   12.000000\nmax     38.000000   27.000000  387.000000    6.000000   18.000000   18.000000",
      "text/html": "<div>\n<style scoped>\n    .dataframe tbody tr th:only-of-type {\n        vertical-align: middle;\n    }\n\n    .dataframe tbody tr th {\n        vertical-align: top;\n    }\n\n    .dataframe thead th {\n        text-align: right;\n    }\n</style>\n<table border=\"1\" class=\"dataframe\">\n  <thead>\n    <tr style=\"text-align: right;\">\n      <th></th>\n      <th>bWendu</th>\n      <th>yWendu</th>\n      <th>aqi</th>\n      <th>aqiLevel</th>\n      <th>wencha</th>\n      <th>wencha1</th>\n    </tr>\n  </thead>\n  <tbody>\n    <tr>\n      <th>count</th>\n      <td>365.000000</td>\n      <td>365.000000</td>\n      <td>365.000000</td>\n      <td>365.000000</td>\n      <td>365.000000</td>\n      <td>365.000000</td>\n    </tr>\n    <tr>\n      <th>mean</th>\n      <td>18.665753</td>\n      <td>8.358904</td>\n      <td>82.183562</td>\n      <td>2.090411</td>\n      <td>10.306849</td>\n      <td>10.306849</td>\n    </tr>\n    <tr>\n      <th>std</th>\n      <td>11.858046</td>\n      <td>11.755053</td>\n      <td>51.936159</td>\n      <td>1.029798</td>\n      <td>2.781233</td>\n      <td>2.781233</td>\n    </tr>\n    <tr>\n      <th>min</th>\n      <td>-5.000000</td>\n      <td>-12.000000</td>\n      <td>21.000000</td>\n      <td>1.000000</td>\n      <td>2.000000</td>\n      <td>2.000000</td>\n    </tr>\n    <tr>\n      <th>25%</th>\n      <td>8.000000</td>\n      <td>-3.000000</td>\n      <td>46.000000</td>\n      <td>1.000000</td>\n      <td>8.000000</td>\n      <td>8.000000</td>\n    </tr>\n    <tr>\n      <th>50%</th>\n      <td>21.000000</td>\n      <td>8.000000</td>\n      <td>69.000000</td>\n      <td>2.000000</td>\n      <td>10.000000</td>\n      <td>10.000000</td>\n    </tr>\n    <tr>\n      <th>75%</th>\n      <td>29.000000</td>\n      <td>19.000000</td>\n      <td>104.000000</td>\n      <td>3.000000</td>\n      <td>12.000000</td>\n      <td>12.000000</td>\n    </tr>\n    <tr>\n      <th>max</th>\n      <td>38.000000</td>\n      <td>27.000000</td>\n      <td>387.000000</td>\n      <td>6.000000</td>\n      <td>18.000000</td>\n      <td>18.000000</td>\n    </tr>\n  </tbody>\n</table>\n</div>"
     },
     "execution_count": 70,
     "metadata": {},
     "output_type": "execute_result"
    }
   ],
   "source": [
    "df.describe()\n"
   ],
   "metadata": {
    "collapsed": false,
    "pycharm": {
     "name": "#%%\n"
    }
   }
  },
  {
   "cell_type": "code",
   "execution_count": 71,
   "outputs": [
    {
     "data": {
      "text/plain": "18.665753424657535"
     },
     "execution_count": 71,
     "metadata": {},
     "output_type": "execute_result"
    }
   ],
   "source": [
    "df['bWendu'].mean()"
   ],
   "metadata": {
    "collapsed": false,
    "pycharm": {
     "name": "#%%\n"
    }
   }
  },
  {
   "cell_type": "markdown",
   "source": [
    "### 2.唯一去重和按值计数"
   ],
   "metadata": {
    "collapsed": false,
    "pycharm": {
     "name": "#%% md\n"
    }
   }
  },
  {
   "cell_type": "code",
   "execution_count": 72,
   "outputs": [
    {
     "data": {
      "text/plain": "array(['东北风', '北风', '西北风', '西南风', '南风', '东南风', '东风', '西风'], dtype=object)"
     },
     "execution_count": 72,
     "metadata": {},
     "output_type": "execute_result"
    }
   ],
   "source": [
    "df['fengxiang'].unique()"
   ],
   "metadata": {
    "collapsed": false,
    "pycharm": {
     "name": "#%%\n"
    }
   }
  },
  {
   "cell_type": "code",
   "execution_count": 73,
   "outputs": [
    {
     "data": {
      "text/plain": "南风     92\n西南风    64\n北风     54\n西北风    51\n东南风    46\n东北风    38\n东风     14\n西风      6\nName: fengxiang, dtype: int64"
     },
     "execution_count": 73,
     "metadata": {},
     "output_type": "execute_result"
    }
   ],
   "source": [
    "df['fengxiang'].value_counts()"
   ],
   "metadata": {
    "collapsed": false,
    "pycharm": {
     "name": "#%%\n"
    }
   }
  },
  {
   "cell_type": "markdown",
   "source": [
    "### 3.相关系数和协方差"
   ],
   "metadata": {
    "collapsed": false,
    "pycharm": {
     "name": "#%% md\n"
    }
   }
  },
  {
   "cell_type": "code",
   "execution_count": 74,
   "outputs": [
    {
     "name": "stderr",
     "output_type": "stream",
     "text": [
      "C:\\Users\\asus\\AppData\\Local\\Temp\\ipykernel_34400\\3514997398.py:1: FutureWarning: The default value of numeric_only in DataFrame.cov is deprecated. In a future version, it will default to False. Select only valid columns or specify the value of numeric_only to silence this warning.\n",
      "  df.cov()\n"
     ]
    },
    {
     "data": {
      "text/plain": "              bWendu      yWendu          aqi   aqiLevel     wencha    wencha1\nbWendu    140.613247  135.529633    47.462622   0.879204   5.083614   5.083614\nyWendu    135.529633  138.181274    16.186685   0.264165  -2.651641  -2.651641\naqi        47.462622   16.186685  2697.364564  50.749842  31.275937  31.275937\naqiLevel    0.879204    0.264165    50.749842   1.060485   0.615038   0.615038\nwencha      5.083614   -2.651641    31.275937   0.615038   7.735255   7.735255\nwencha1     5.083614   -2.651641    31.275937   0.615038   7.735255   7.735255",
      "text/html": "<div>\n<style scoped>\n    .dataframe tbody tr th:only-of-type {\n        vertical-align: middle;\n    }\n\n    .dataframe tbody tr th {\n        vertical-align: top;\n    }\n\n    .dataframe thead th {\n        text-align: right;\n    }\n</style>\n<table border=\"1\" class=\"dataframe\">\n  <thead>\n    <tr style=\"text-align: right;\">\n      <th></th>\n      <th>bWendu</th>\n      <th>yWendu</th>\n      <th>aqi</th>\n      <th>aqiLevel</th>\n      <th>wencha</th>\n      <th>wencha1</th>\n    </tr>\n  </thead>\n  <tbody>\n    <tr>\n      <th>bWendu</th>\n      <td>140.613247</td>\n      <td>135.529633</td>\n      <td>47.462622</td>\n      <td>0.879204</td>\n      <td>5.083614</td>\n      <td>5.083614</td>\n    </tr>\n    <tr>\n      <th>yWendu</th>\n      <td>135.529633</td>\n      <td>138.181274</td>\n      <td>16.186685</td>\n      <td>0.264165</td>\n      <td>-2.651641</td>\n      <td>-2.651641</td>\n    </tr>\n    <tr>\n      <th>aqi</th>\n      <td>47.462622</td>\n      <td>16.186685</td>\n      <td>2697.364564</td>\n      <td>50.749842</td>\n      <td>31.275937</td>\n      <td>31.275937</td>\n    </tr>\n    <tr>\n      <th>aqiLevel</th>\n      <td>0.879204</td>\n      <td>0.264165</td>\n      <td>50.749842</td>\n      <td>1.060485</td>\n      <td>0.615038</td>\n      <td>0.615038</td>\n    </tr>\n    <tr>\n      <th>wencha</th>\n      <td>5.083614</td>\n      <td>-2.651641</td>\n      <td>31.275937</td>\n      <td>0.615038</td>\n      <td>7.735255</td>\n      <td>7.735255</td>\n    </tr>\n    <tr>\n      <th>wencha1</th>\n      <td>5.083614</td>\n      <td>-2.651641</td>\n      <td>31.275937</td>\n      <td>0.615038</td>\n      <td>7.735255</td>\n      <td>7.735255</td>\n    </tr>\n  </tbody>\n</table>\n</div>"
     },
     "execution_count": 74,
     "metadata": {},
     "output_type": "execute_result"
    }
   ],
   "source": [
    "df.cov()"
   ],
   "metadata": {
    "collapsed": false,
    "pycharm": {
     "name": "#%%\n"
    }
   }
  },
  {
   "cell_type": "code",
   "execution_count": 75,
   "outputs": [
    {
     "name": "stderr",
     "output_type": "stream",
     "text": [
      "C:\\Users\\asus\\AppData\\Local\\Temp\\ipykernel_34400\\1886530979.py:1: FutureWarning: The default value of numeric_only in DataFrame.corr is deprecated. In a future version, it will default to False. Select only valid columns or specify the value of numeric_only to silence this warning.\n",
      "  df.corr()\n"
     ]
    },
    {
     "data": {
      "text/plain": "            bWendu    yWendu       aqi  aqiLevel    wencha   wencha1\nbWendu    1.000000  0.972292  0.077067  0.071999  0.154142  0.154142\nyWendu    0.972292  1.000000  0.026513  0.021822 -0.081106 -0.081106\naqi       0.077067  0.026513  1.000000  0.948883  0.216523  0.216523\naqiLevel  0.071999  0.021822  0.948883  1.000000  0.214740  0.214740\nwencha    0.154142 -0.081106  0.216523  0.214740  1.000000  1.000000\nwencha1   0.154142 -0.081106  0.216523  0.214740  1.000000  1.000000",
      "text/html": "<div>\n<style scoped>\n    .dataframe tbody tr th:only-of-type {\n        vertical-align: middle;\n    }\n\n    .dataframe tbody tr th {\n        vertical-align: top;\n    }\n\n    .dataframe thead th {\n        text-align: right;\n    }\n</style>\n<table border=\"1\" class=\"dataframe\">\n  <thead>\n    <tr style=\"text-align: right;\">\n      <th></th>\n      <th>bWendu</th>\n      <th>yWendu</th>\n      <th>aqi</th>\n      <th>aqiLevel</th>\n      <th>wencha</th>\n      <th>wencha1</th>\n    </tr>\n  </thead>\n  <tbody>\n    <tr>\n      <th>bWendu</th>\n      <td>1.000000</td>\n      <td>0.972292</td>\n      <td>0.077067</td>\n      <td>0.071999</td>\n      <td>0.154142</td>\n      <td>0.154142</td>\n    </tr>\n    <tr>\n      <th>yWendu</th>\n      <td>0.972292</td>\n      <td>1.000000</td>\n      <td>0.026513</td>\n      <td>0.021822</td>\n      <td>-0.081106</td>\n      <td>-0.081106</td>\n    </tr>\n    <tr>\n      <th>aqi</th>\n      <td>0.077067</td>\n      <td>0.026513</td>\n      <td>1.000000</td>\n      <td>0.948883</td>\n      <td>0.216523</td>\n      <td>0.216523</td>\n    </tr>\n    <tr>\n      <th>aqiLevel</th>\n      <td>0.071999</td>\n      <td>0.021822</td>\n      <td>0.948883</td>\n      <td>1.000000</td>\n      <td>0.214740</td>\n      <td>0.214740</td>\n    </tr>\n    <tr>\n      <th>wencha</th>\n      <td>0.154142</td>\n      <td>-0.081106</td>\n      <td>0.216523</td>\n      <td>0.214740</td>\n      <td>1.000000</td>\n      <td>1.000000</td>\n    </tr>\n    <tr>\n      <th>wencha1</th>\n      <td>0.154142</td>\n      <td>-0.081106</td>\n      <td>0.216523</td>\n      <td>0.214740</td>\n      <td>1.000000</td>\n      <td>1.000000</td>\n    </tr>\n  </tbody>\n</table>\n</div>"
     },
     "execution_count": 75,
     "metadata": {},
     "output_type": "execute_result"
    }
   ],
   "source": [
    "df.corr()"
   ],
   "metadata": {
    "collapsed": false,
    "pycharm": {
     "name": "#%%\n"
    }
   }
  },
  {
   "cell_type": "code",
   "execution_count": 76,
   "outputs": [
    {
     "data": {
      "text/plain": "0.07706705916811077"
     },
     "execution_count": 76,
     "metadata": {},
     "output_type": "execute_result"
    }
   ],
   "source": [
    "df['bWendu'].corr(df['aqi'])"
   ],
   "metadata": {
    "collapsed": false,
    "pycharm": {
     "name": "#%%\n"
    }
   }
  },
  {
   "cell_type": "code",
   "execution_count": 77,
   "outputs": [
    {
     "data": {
      "text/plain": "0.21652257576382047"
     },
     "execution_count": 77,
     "metadata": {},
     "output_type": "execute_result"
    }
   ],
   "source": [
    "df['aqi'].corr(df['bWendu']- df['yWendu'])"
   ],
   "metadata": {
    "collapsed": false,
    "pycharm": {
     "name": "#%%\n"
    }
   }
  }
 ],
 "metadata": {
  "kernelspec": {
   "display_name": "Python 3",
   "language": "python",
   "name": "python3"
  },
  "language_info": {
   "codemirror_mode": {
    "name": "ipython",
    "version": 2
   },
   "file_extension": ".py",
   "mimetype": "text/x-python",
   "name": "python",
   "nbconvert_exporter": "python",
   "pygments_lexer": "ipython2",
   "version": "2.7.6"
  }
 },
 "nbformat": 4,
 "nbformat_minor": 0
}